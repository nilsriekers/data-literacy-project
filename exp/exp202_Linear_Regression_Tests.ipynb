{
 "cells": [
  {
   "cell_type": "code",
   "execution_count": 1,
   "id": "9dfae83c",
   "metadata": {},
   "outputs": [],
   "source": [
    "%matplotlib inline\n",
    "\n",
    "# Plotting setup\n",
    "import matplotlib.pyplot as plt\n",
    "\n",
    "# Package imports\n",
    "import numpy as np\n",
    "import pandas as pd\n",
    "\n",
    "# Allow import of own scripts #\n",
    "import sys, os\n",
    "module_path = os.path.abspath(os.path.join('..'))\n",
    "if module_path not in sys.path:\n",
    "    sys.path.append(module_path)\n",
    "###############################\n",
    "\n",
    "# Own functions\n",
    "from src.load_taxi_data import load_taxi_data\n",
    "from src.taxi_zones_loader import taxi_zones_loader\n",
    "from src.preprocess_data import preprocess_data"
   ]
  },
  {
   "cell_type": "code",
   "execution_count": 2,
   "id": "f468f6f3",
   "metadata": {},
   "outputs": [],
   "source": [
    "# Read previously saved dataframe from csv file from disk\n",
    "df_taxi_2019_01_raw = pd.read_csv('../dat/df_taxi_2019_01.csv')"
   ]
  },
  {
   "cell_type": "markdown",
   "id": "d05ee97f",
   "metadata": {},
   "source": [
    "**Preprocessing:**"
   ]
  },
  {
   "cell_type": "code",
   "execution_count": 3,
   "id": "48b48b31",
   "metadata": {},
   "outputs": [
    {
     "name": "stdout",
     "output_type": "stream",
     "text": [
      "About 5.81% of the entire data could not be used due to missing information (NaN).\n"
     ]
    }
   ],
   "source": [
    "# Preprocessing\n",
    "df_taxi_2019_01 = preprocess_data(df_taxi_2019_01_raw)"
   ]
  },
  {
   "cell_type": "code",
   "execution_count": 4,
   "id": "3691d51b",
   "metadata": {},
   "outputs": [
    {
     "data": {
      "text/html": [
       "<div>\n",
       "<style scoped>\n",
       "    .dataframe tbody tr th:only-of-type {\n",
       "        vertical-align: middle;\n",
       "    }\n",
       "\n",
       "    .dataframe tbody tr th {\n",
       "        vertical-align: top;\n",
       "    }\n",
       "\n",
       "    .dataframe thead th {\n",
       "        text-align: right;\n",
       "    }\n",
       "</style>\n",
       "<table border=\"1\" class=\"dataframe\">\n",
       "  <thead>\n",
       "    <tr style=\"text-align: right;\">\n",
       "      <th></th>\n",
       "      <th>pickup_datetime</th>\n",
       "      <th>dropoff_datetime</th>\n",
       "      <th>PULocationID</th>\n",
       "      <th>DOLocationID</th>\n",
       "      <th>fleet</th>\n",
       "    </tr>\n",
       "  </thead>\n",
       "  <tbody>\n",
       "    <tr>\n",
       "      <th>0</th>\n",
       "      <td>2019-01-01 00:46:40</td>\n",
       "      <td>2019-01-01 00:53:20</td>\n",
       "      <td>151</td>\n",
       "      <td>239</td>\n",
       "      <td>yellow</td>\n",
       "    </tr>\n",
       "    <tr>\n",
       "      <th>1</th>\n",
       "      <td>2019-01-01 00:59:47</td>\n",
       "      <td>2019-01-01 01:18:59</td>\n",
       "      <td>239</td>\n",
       "      <td>246</td>\n",
       "      <td>yellow</td>\n",
       "    </tr>\n",
       "    <tr>\n",
       "      <th>2</th>\n",
       "      <td>2018-12-21 13:48:30</td>\n",
       "      <td>2018-12-21 13:52:40</td>\n",
       "      <td>236</td>\n",
       "      <td>236</td>\n",
       "      <td>yellow</td>\n",
       "    </tr>\n",
       "    <tr>\n",
       "      <th>3</th>\n",
       "      <td>2018-11-28 15:52:25</td>\n",
       "      <td>2018-11-28 15:55:45</td>\n",
       "      <td>193</td>\n",
       "      <td>193</td>\n",
       "      <td>yellow</td>\n",
       "    </tr>\n",
       "    <tr>\n",
       "      <th>4</th>\n",
       "      <td>2018-11-28 15:56:57</td>\n",
       "      <td>2018-11-28 15:58:33</td>\n",
       "      <td>193</td>\n",
       "      <td>193</td>\n",
       "      <td>yellow</td>\n",
       "    </tr>\n",
       "    <tr>\n",
       "      <th>...</th>\n",
       "      <td>...</td>\n",
       "      <td>...</td>\n",
       "      <td>...</td>\n",
       "      <td>...</td>\n",
       "      <td>...</td>\n",
       "    </tr>\n",
       "    <tr>\n",
       "      <th>31429479</th>\n",
       "      <td>2019-01-31 23:32:45</td>\n",
       "      <td>2019-01-31 23:32:49</td>\n",
       "      <td>247</td>\n",
       "      <td>45</td>\n",
       "      <td>fhv</td>\n",
       "    </tr>\n",
       "    <tr>\n",
       "      <th>31429481</th>\n",
       "      <td>2019-01-31 23:37:00</td>\n",
       "      <td>2019-01-31 23:54:00</td>\n",
       "      <td>265</td>\n",
       "      <td>265</td>\n",
       "      <td>fhv</td>\n",
       "    </tr>\n",
       "    <tr>\n",
       "      <th>31429482</th>\n",
       "      <td>2019-01-31 23:58:00</td>\n",
       "      <td>2019-02-01 00:59:00</td>\n",
       "      <td>265</td>\n",
       "      <td>265</td>\n",
       "      <td>fhv</td>\n",
       "    </tr>\n",
       "    <tr>\n",
       "      <th>31429483</th>\n",
       "      <td>2019-01-31 23:46:00</td>\n",
       "      <td>2019-02-01 00:21:00</td>\n",
       "      <td>265</td>\n",
       "      <td>265</td>\n",
       "      <td>fhv</td>\n",
       "    </tr>\n",
       "    <tr>\n",
       "      <th>31429509</th>\n",
       "      <td>2019-01-31 23:45:00</td>\n",
       "      <td>2019-02-01 00:52:00</td>\n",
       "      <td>132</td>\n",
       "      <td>265</td>\n",
       "      <td>fhv</td>\n",
       "    </tr>\n",
       "  </tbody>\n",
       "</table>\n",
       "<p>29604716 rows × 5 columns</p>\n",
       "</div>"
      ],
      "text/plain": [
       "              pickup_datetime     dropoff_datetime  PULocationID  \\\n",
       "0         2019-01-01 00:46:40  2019-01-01 00:53:20           151   \n",
       "1         2019-01-01 00:59:47  2019-01-01 01:18:59           239   \n",
       "2         2018-12-21 13:48:30  2018-12-21 13:52:40           236   \n",
       "3         2018-11-28 15:52:25  2018-11-28 15:55:45           193   \n",
       "4         2018-11-28 15:56:57  2018-11-28 15:58:33           193   \n",
       "...                       ...                  ...           ...   \n",
       "31429479  2019-01-31 23:32:45  2019-01-31 23:32:49           247   \n",
       "31429481  2019-01-31 23:37:00  2019-01-31 23:54:00           265   \n",
       "31429482  2019-01-31 23:58:00  2019-02-01 00:59:00           265   \n",
       "31429483  2019-01-31 23:46:00  2019-02-01 00:21:00           265   \n",
       "31429509  2019-01-31 23:45:00  2019-02-01 00:52:00           132   \n",
       "\n",
       "          DOLocationID   fleet  \n",
       "0                  239  yellow  \n",
       "1                  246  yellow  \n",
       "2                  236  yellow  \n",
       "3                  193  yellow  \n",
       "4                  193  yellow  \n",
       "...                ...     ...  \n",
       "31429479            45     fhv  \n",
       "31429481           265     fhv  \n",
       "31429482           265     fhv  \n",
       "31429483           265     fhv  \n",
       "31429509           265     fhv  \n",
       "\n",
       "[29604716 rows x 5 columns]"
      ]
     },
     "execution_count": 4,
     "metadata": {},
     "output_type": "execute_result"
    }
   ],
   "source": [
    "df_taxi_2019_01"
   ]
  },
  {
   "cell_type": "markdown",
   "id": "82a7bef2",
   "metadata": {},
   "source": [
    "**Identify most popular routes:**"
   ]
  },
  {
   "cell_type": "markdown",
   "id": "238da495",
   "metadata": {},
   "source": [
    "**Definition:** The **most frequent route** between any two locations _A_ and _B_ is the unidirectional route _A*_ &rarr; _B*_ with the highest trip frequency."
   ]
  },
  {
   "cell_type": "code",
   "execution_count": null,
   "id": "7ca1c910",
   "metadata": {},
   "outputs": [],
   "source": []
  }
 ],
 "metadata": {
  "kernelspec": {
   "display_name": "Python 3 (ipykernel)",
   "language": "python",
   "name": "python3"
  },
  "language_info": {
   "codemirror_mode": {
    "name": "ipython",
    "version": 3
   },
   "file_extension": ".py",
   "mimetype": "text/x-python",
   "name": "python",
   "nbconvert_exporter": "python",
   "pygments_lexer": "ipython3",
   "version": "3.9.7"
  }
 },
 "nbformat": 4,
 "nbformat_minor": 5
}
