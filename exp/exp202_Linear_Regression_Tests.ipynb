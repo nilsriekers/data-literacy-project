{
 "cells": [
  {
   "cell_type": "code",
   "execution_count": 4,
   "id": "9dfae83c",
   "metadata": {},
   "outputs": [],
   "source": [
    "%matplotlib inline\n",
    "\n",
    "# Plotting setup\n",
    "import matplotlib.pyplot as plt\n",
    "\n",
    "# Package imports\n",
    "import numpy as np\n",
    "import pandas as pd\n",
    "\n",
    "# Allow import of own scripts #\n",
    "import sys, os\n",
    "module_path = os.path.abspath(os.path.join('..'))\n",
    "if module_path not in sys.path:\n",
    "    sys.path.append(module_path)\n",
    "###############################\n",
    "\n",
    "# Own functions\n",
    "from src.load_taxi_data import load_taxi_data"
   ]
  },
  {
   "cell_type": "code",
   "execution_count": 11,
   "id": "123c1242",
   "metadata": {},
   "outputs": [
    {
     "name": "stdout",
     "output_type": "stream",
     "text": [
      "Will download... yellow_tripdata_2019-01.csv\n",
      "Will download... green_tripdata_2019-01.csv\n",
      "Will download... fhv_tripdata_2019-01.csv\n"
     ]
    }
   ],
   "source": [
    "'''\n",
    "Load taxi data for all taxi types for January 2019 before Covid.\n",
    "This will take a while because total data amount is about 2 GB!\n",
    "'''\n",
    "# df_taxi_2019_01 = load_taxi_data(['yellow', 'green', 'fhv'], [2019], [1])"
   ]
  },
  {
   "cell_type": "code",
   "execution_count": 12,
   "id": "4cc1caf3",
   "metadata": {},
   "outputs": [],
   "source": [
    "'''\n",
    "Save data to csv to save time.\n",
    "This will take a while as total file size is about 2 GB!\n",
    "'''\n",
    "# df_taxi_2019_01.to_csv('../dat/df_taxi_2019_01.csv', encoding='utf-8')"
   ]
  },
  {
   "cell_type": "code",
   "execution_count": null,
   "id": "802184c6",
   "metadata": {},
   "outputs": [],
   "source": [
    "# Read previously saved dataframe from csv file\n",
    "df_taxi_2019_01 = pandas.read_csv('../dat/df_taxi_2019_01.csv', low_memory=False)"
   ]
  }
 ],
 "metadata": {
  "kernelspec": {
   "display_name": "Python 3 (ipykernel)",
   "language": "python",
   "name": "python3"
  },
  "language_info": {
   "codemirror_mode": {
    "name": "ipython",
    "version": 3
   },
   "file_extension": ".py",
   "mimetype": "text/x-python",
   "name": "python",
   "nbconvert_exporter": "python",
   "pygments_lexer": "ipython3",
   "version": "3.9.7"
  }
 },
 "nbformat": 4,
 "nbformat_minor": 5
}
